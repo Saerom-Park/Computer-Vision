{
  "nbformat": 4,
  "nbformat_minor": 0,
  "metadata": {
    "colab": {
      "name": "컴퓨터비전_과제1",
      "provenance": [],
      "authorship_tag": "ABX9TyOvJerD/Ss3+ySS+dUcES4Y",
      "include_colab_link": true
    },
    "kernelspec": {
      "name": "python3",
      "display_name": "Python 3"
    },
    "language_info": {
      "name": "python"
    }
  },
  "cells": [
    {
      "cell_type": "markdown",
      "metadata": {
        "id": "view-in-github",
        "colab_type": "text"
      },
      "source": [
        "<a href=\"https://colab.research.google.com/github/Saerom-Park/Computer-Vision/blob/main/%EC%BB%B4%ED%93%A8%ED%84%B0%EB%B9%84%EC%A0%84%201%EC%B0%A8%20%EA%B3%BC%EC%A0%9C.ipynb\" target=\"_parent\"><img src=\"https://colab.research.google.com/assets/colab-badge.svg\" alt=\"Open In Colab\"/></a>"
      ]
    },
    {
      "cell_type": "markdown",
      "metadata": {
        "id": "UfF3O28z3QvN"
      },
      "source": [
        "컴퓨터 비전 1차 과제\n",
        "- 과제 기한: 10월 18일 자정\n",
        "\n",
        "- 과제명: 주어진 영상을 일고 4연결성/8연결성을 이용하여 영상을 라벨링하여 색칠하기\n",
        "\n",
        "- 제출방법: colab에서 프로그램을 작성한 후 \" .py\" 확장자로 다운로드하여 가상대학에 제출하시기 바람\n",
        "\n",
        "- 파일명: 학번.py\n",
        "\n",
        "- 과제 제출 기한을 반드시 지키고, 이후에 제출시 감정\n",
        "\n"
      ]
    },
    {
      "cell_type": "markdown",
      "metadata": {
        "id": "fBAw5ZxF3TaY"
      },
      "source": [
        "Python 버전 확인"
      ]
    },
    {
      "cell_type": "code",
      "metadata": {
        "id": "GVWUteOpZuTM",
        "colab": {
          "base_uri": "https://localhost:8080/"
        },
        "outputId": "99d086a1-9348-49ec-bd9f-c6606daa7573"
      },
      "source": [
        "!python --version"
      ],
      "execution_count": null,
      "outputs": [
        {
          "output_type": "stream",
          "name": "stdout",
          "text": [
            "Python 3.7.12\n"
          ]
        }
      ]
    },
    {
      "cell_type": "code",
      "metadata": {
        "id": "CzZCTMUP3Vdx",
        "colab": {
          "base_uri": "https://localhost:8080/",
          "height": 35
        },
        "outputId": "cdc9944a-4275-45e2-fb9c-05aeb4df5eea"
      },
      "source": [
        "import numpy as np\n",
        "import cv2\n",
        "import matplotlib.pyplot as plt\n",
        "cv2.__version__"
      ],
      "execution_count": null,
      "outputs": [
        {
          "output_type": "execute_result",
          "data": {
            "application/vnd.google.colaboratory.intrinsic+json": {
              "type": "string"
            },
            "text/plain": [
              "'4.1.2'"
            ]
          },
          "metadata": {},
          "execution_count": 81
        }
      ]
    },
    {
      "cell_type": "markdown",
      "metadata": {
        "id": "DzTEnC4G3W-k"
      },
      "source": [
        "이미지 다운로드"
      ]
    },
    {
      "cell_type": "code",
      "metadata": {
        "id": "OSfcf-pu3VaU",
        "colab": {
          "base_uri": "https://localhost:8080/"
        },
        "outputId": "427b476c-5e48-4ee3-ac8e-bbe4c0432d47"
      },
      "source": [
        "!wget https://i.imgur.com/iWGMlJR.png\n",
        "!mv iWGMlJR.png sample.png"
      ],
      "execution_count": null,
      "outputs": [
        {
          "output_type": "stream",
          "name": "stdout",
          "text": [
            "--2021-10-15 14:15:21--  https://i.imgur.com/iWGMlJR.png\n",
            "Resolving i.imgur.com (i.imgur.com)... 151.101.248.193\n",
            "Connecting to i.imgur.com (i.imgur.com)|151.101.248.193|:443... connected.\n",
            "HTTP request sent, awaiting response... 200 OK\n",
            "Length: 491 [image/png]\n",
            "Saving to: ‘iWGMlJR.png’\n",
            "\n",
            "\riWGMlJR.png           0%[                    ]       0  --.-KB/s               \riWGMlJR.png         100%[===================>]     491  --.-KB/s    in 0s      \n",
            "\n",
            "2021-10-15 14:15:21 (42.2 MB/s) - ‘iWGMlJR.png’ saved [491/491]\n",
            "\n"
          ]
        }
      ]
    },
    {
      "cell_type": "code",
      "metadata": {
        "id": "2OFTpqNN3VYe",
        "colab": {
          "base_uri": "https://localhost:8080/",
          "height": 261
        },
        "outputId": "91017535-e66d-47ce-be22-915dbc953350"
      },
      "source": [
        "img = cv2.imread('sample.png')\n",
        "\n",
        "# image 출력\n",
        "plt.imshow(img)\n",
        "plt.show()"
      ],
      "execution_count": null,
      "outputs": [
        {
          "output_type": "display_data",
          "data": {
            "image/png": "[encoded data removed]",
            "text/plain": [
              "<Figure size 432x288 with 1 Axes>"
            ]
          },
          "metadata": {
            "needs_background": "light"
          }
        }
      ]
    },
    {
      "cell_type": "markdown",
      "metadata": {
        "id": "SDo2ZNoQ3dU0"
      },
      "source": [
        "# 4연결성과 8연결성 라벨링 출력 예시\n",
        "## 숫자로 표시\n",
        "![alt text](https://i.imgur.com/lQ9nXox.png)\n",
        "## 색상으로 표시\n",
        "![alt text](https://i.imgur.com/91M3MwP.png)"
      ]
    },
    {
      "cell_type": "markdown",
      "metadata": {
        "id": "PD___0Ar3iQk"
      },
      "source": [
        "# 과제1: 4연결성 라벨링\n",
        "\n",
        "- 위의 4연결성(4-neighbors) 라벨링과 같이 숫자 또는 색을 이용하여 라벨링하시오.\n",
        "- cf. 색의 종류에는 제한이 없고, 연결된 픽셀은 같은 숫자 또는 같은 색을 가져야함."
      ]
    },
    {
      "cell_type": "code",
      "metadata": {
        "id": "cFed1joR3VVz"
      },
      "source": [
        "def four_connect(img):\n",
        "    # 함수 작성\n",
        "    img = np.where(img==0,0,-1) # 0은 0, 나머지는 -1로\n",
        "    label = 0\n",
        "    width, height, channel = img.shape\n",
        "    def flood_fill4(img, i, j, s, label):\n",
        "      if img[i][j][s]==-1:\n",
        "        img[i][j][s] = label\n",
        "        flood_fill4(img,i,j+1,s,label) # 오른쪽\n",
        "        flood_fill4(img,i-1,j,s,label) # 위쪽\n",
        "        flood_fill4(img,i,j-1,s,label) # 왼쪽\n",
        "        flood_fill4(img,i+1,j,s,label) # 아래쪽\n",
        "    \n",
        "    for k in range(0,channel): # 채널마다 라벨 0부터 count\n",
        "      label = 0\n",
        "      for i in range(1,width-2): # 1부터 width-2\n",
        "        for j in range(1,height-2): # 1부터 height-2\n",
        "          if img[i][j][k]==-1: # img의 [i][j][k] 값이 -1이면 label에 1 더함\n",
        "            label+=1\n",
        "            flood_fill4(img,i,j,k,label*(0.3+k)*100) # [i][j][k] 값 주변 4-연속성 파악. 색을 구분하기 위해label에 (0.3+k)*100한 값으로 color 채움\n",
        "\n",
        "    return  img, label"
      ],
      "execution_count": null,
      "outputs": []
    },
    {
      "cell_type": "code",
      "metadata": {
        "id": "2ts8BFbb3VTQ",
        "colab": {
          "base_uri": "https://localhost:8080/",
          "height": 280
        },
        "outputId": "26da7190-586d-4ac2-b7c5-bed3f51824a8"
      },
      "source": [
        "img = cv2.imread('sample.png')\n",
        "\n",
        "labeled_img, label = four_connect(img)\n",
        "print('label 수 : ', label)\n",
        "\n",
        "# image 출력\n",
        "plt.imshow(labeled_img)\n",
        "plt.grid(None)   \n",
        "plt.xticks([])\n",
        "plt.yticks([])\n",
        "plt.show()"
      ],
      "execution_count": null,
      "outputs": [
        {
          "output_type": "stream",
          "name": "stderr",
          "text": [
            "Clipping input data to the valid range for imshow with RGB data ([0..1] for floats or [0..255] for integers).\n"
          ]
        },
        {
          "output_type": "stream",
          "name": "stdout",
          "text": [
            "label 수 :  81\n"
          ]
        },
        {
          "output_type": "display_data",
          "data": {
            "image/png": "[encoded data removed]",
            "text/plain": [
              "<Figure size 432x288 with 1 Axes>"
            ]
          },
          "metadata": {}
        }
      ]
    },
    {
      "cell_type": "code",
      "metadata": {
        "colab": {
          "base_uri": "https://localhost:8080/"
        },
        "id": "rlHQGH9D_VP6",
        "outputId": "085bee67-4629-4ad9-f38c-67455b328de6"
      },
      "source": [
        "label"
      ],
      "execution_count": null,
      "outputs": [
        {
          "output_type": "execute_result",
          "data": {
            "text/plain": [
              "81"
            ]
          },
          "metadata": {},
          "execution_count": 338
        }
      ]
    },
    {
      "cell_type": "markdown",
      "metadata": {
        "id": "MRrK2-OD3rCI"
      },
      "source": [
        "# 과제2: 8연결성 라벨링\n",
        "- 위의 8연결성(8-neighbors) 라벨링과 같이 숫자 또는 색을 이용하여 라벨링하시오.\n",
        "- cf. 색의 종류에는 제한이 없고, 연결된 픽셀은 같은 숫자 또는 같은 색을 가져야함.-"
      ]
    },
    {
      "cell_type": "code",
      "metadata": {
        "id": "HHDP1ITx3VQu"
      },
      "source": [
        "def eight_connect(img):\n",
        "    # 함수 작성\n",
        "    img = np.where(img==0,0,-1) # 0은 0, 나머지는 -1로\n",
        "    label = 0\n",
        "    width, height, channel = img.shape\n",
        "    def flood_fill8(img, i, j, s, label):\n",
        "      if img[i][j][s]==-1:\n",
        "        img[i][j][s] = label\n",
        "        flood_fill8(img,i,j+1,s,label) # 오른쪽\n",
        "        flood_fill8(img,i-1,j,s,label) # 위쪽\n",
        "        flood_fill8(img,i,j-1,s,label) # 왼쪽\n",
        "        flood_fill8(img,i+1,j,s,label) # 아래쪽\n",
        "        flood_fill8(img,i+1,j+1,s,label) #대각선 \n",
        "        flood_fill8(img,i-1,j+1,s,label)\n",
        "        flood_fill8(img,i+1,j-1,s,label)\n",
        "        flood_fill8(img,i-1,j-1,s,label)\n",
        "    \n",
        "    \n",
        "    for k in range(0,channel):# 채널마다 라벨 0부터 count\n",
        "      label = 0\n",
        "      for i in range(1,width-2): # 1부터 width-2\n",
        "        for j in range(1,height-2): # 1부터 height-2\n",
        "          if img[i][j][k]==-1: # img의 [i][j][k] 값이 -1이면 label에 1 더함\n",
        "            label+=1\n",
        "            flood_fill8(img,i,j,k,label*(3-k)*100)# [i][j][k] 값 주변 8-연속성 파악. 색을 구분하기 위해label에 (3-k)*100 곱한 값으로 color 채움\n",
        "\n",
        "    return  img, label"
      ],
      "execution_count": null,
      "outputs": []
    },
    {
      "cell_type": "code",
      "metadata": {
        "id": "vNe6fWLc3VN_",
        "colab": {
          "base_uri": "https://localhost:8080/",
          "height": 280
        },
        "outputId": "839b154f-cb65-46ac-d29b-04c3aa2ba396"
      },
      "source": [
        "img = cv2.imread('sample.png')\n",
        "\n",
        "labeled_img, label = eight_connect(img)\n",
        "print('label 수 : ', label)\n",
        "\n",
        "# image 출력\n",
        "plt.imshow(labeled_img)\n",
        "plt.grid(None)   \n",
        "plt.xticks([])\n",
        "plt.yticks([])\n",
        "plt.show()"
      ],
      "execution_count": null,
      "outputs": [
        {
          "output_type": "stream",
          "name": "stderr",
          "text": [
            "Clipping input data to the valid range for imshow with RGB data ([0..1] for floats or [0..255] for integers).\n"
          ]
        },
        {
          "output_type": "stream",
          "name": "stdout",
          "text": [
            "label 수 :  3\n"
          ]
        },
        {
          "output_type": "display_data",
          "data": {
            "image/png": "[encoded data removed]",
            "text/plain": [
              "<Figure size 432x288 with 1 Axes>"
            ]
          },
          "metadata": {}
        }
      ]
    },
    {
      "cell_type": "code",
      "metadata": {
        "id": "1C8bs2xC3x3e",
        "colab": {
          "base_uri": "https://localhost:8080/"
        },
        "outputId": "36252368-f3bf-4a52-a1ea-25f8a916bd08"
      },
      "source": [
        "label"
      ],
      "execution_count": null,
      "outputs": [
        {
          "output_type": "execute_result",
          "data": {
            "text/plain": [
              "3"
            ]
          },
          "metadata": {},
          "execution_count": 343
        }
      ]
    }
  ]
}
